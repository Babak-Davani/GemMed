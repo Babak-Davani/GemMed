{
 "cells": [
  {
   "cell_type": "markdown",
   "id": "a2acfe90",
   "metadata": {},
   "source": [
    "<link rel=\"stylesheet\" href=\"/site-assets/css/gemma.css\">\n",
    "<link rel=\"stylesheet\" href=\"https://fonts.googleapis.com/css2?family=Google+Symbols:opsz,wght,FILL,GRAD@20..48,100..700,0..1,-50..200\" />"
   ]
  },
  {
   "cell_type": "markdown",
   "id": "a37d4fa6",
   "metadata": {},
   "source": [
    "# Fine-tune Gemma models in Keras using LoRA"
   ]
  },
  {
   "cell_type": "markdown",
   "id": "86c90cf1",
   "metadata": {},
   "source": [
    "## Overview\n",
    "\n",
    "In this project, I demonstrate how to fine-tune the Gemma 2B model for conversational AI in the medical domain. \n",
    "\n",
    "### About Gemma\n",
    "Gemma is a family of large language models designed for robust and scalable applications. With pretrained architectures optimized for versatility, Gemma models are particularly suitable for tasks involving natural language understanding and generation.\n",
    "\n",
    "### About Low Rank Adaptation (LoRA)\n",
    "[Low Rank Adaptation (LoRA)](https://arxiv.org/abs/2106.09685) is a technique that enables efficient fine-tuning of large language models by introducing trainable low-rank matrices. This approach reduces computational requirements while maintaining model performance, making it ideal for fine-tuning Gemma.\n",
    "\n",
    "### Dataset\n",
    "- **Source**: [Hugging Face Medical-Llama3 Fine-tune Dataset](https://huggingface.co/datasets/Pistachio-LLM/Medical-llama3-finetune-train)\n",
    "- **Description**: A curated collection of over 37,000 medical conversational entries, optimized for healthcare-specific language tasks.\n",
    "- **Justification**: Its diversity and focus on the medical domain make it a valuable dataset for enhancing conversational adaptability and accuracy.\n"
   ]
  },
  {
   "cell_type": "markdown",
   "id": "a22819dc",
   "metadata": {},
   "source": [
    "## Setup"
   ]
  },
  {
   "cell_type": "markdown",
   "id": "b4c3135a",
   "metadata": {},
   "source": [
    "### Access to Gemma\n",
    "I followed the setup instructions for [Gemma](https://ai.google.dev/gemma/docs/setup) to ensure smooth integration, including:\n",
    "- Accessing Gemma on [Kaggle](https://kaggle.com).\n",
    "- Configuring the runtime for the Gemma 2B model.\n",
    "- Generating a Kaggle API key.\n"
   ]
  },
  {
   "cell_type": "markdown",
   "id": "85cddc36",
   "metadata": {},
   "source": [
    "### Configure Environment\n",
    "To integrate Gemma, I configured the required environment variables:\n",
    "- Set `KAGGLE_USERNAME` and `KAGGLE_KEY` using the downloaded Kaggle API credentials.\n",
    "- Ensured the environment is ready by validating access to `kagglehub`."
   ]
  },
  {
   "cell_type": "code",
   "execution_count": 1,
   "id": "a947bfd7",
   "metadata": {
    "scrolled": true
   },
   "outputs": [],
   "source": [
    "# !pip install kagglehub\n",
    "import kagglehub"
   ]
  },
  {
   "cell_type": "code",
   "execution_count": 2,
   "id": "4bf2369b",
   "metadata": {},
   "outputs": [],
   "source": [
    "from dotenv import load_dotenv\n",
    "import os\n",
    "\n",
    "# Path and load the .env file \n",
    "dotenv_path = \"../.env\" \n",
    "load_dotenv(dotenv_path)\n",
    "\n",
    "# Access the environment variables\n",
    "kaggle_username = os.getenv(\"KAGGLE_USERNAME\")\n",
    "kaggle_key = os.getenv(\"KAGGLE_KEY\")"
   ]
  },
  {
   "cell_type": "code",
   "execution_count": 3,
   "id": "8ba60520",
   "metadata": {},
   "outputs": [
    {
     "name": "stdout",
     "output_type": "stream",
     "text": [
      "ref                                                           title                                              size  lastUpdated          downloadCount  voteCount  usabilityRating  \n",
      "------------------------------------------------------------  ------------------------------------------------  -----  -------------------  -------------  ---------  ---------------  \n",
      "muhammadroshaanriaz/students-performance-dataset-cleaned      Students Performance | Clean Dataset               10KB  2024-10-29 19:32:26           7803        148  1.0              \n",
      "whisperingkahuna/footballers-with-50-international-goals-men  Footballers with 50+ International Goals [men]      3KB  2024-11-17 12:51:23           1121         25  1.0              \n",
      "daniellopez01/credit-risk                                     credit_risk                                        13KB  2024-11-17 22:13:54            899         29  1.0              \n",
      "steve1215rogg/student-lifestyle-dataset                       student lifestyle dataset                          22KB  2024-11-11 19:11:28           3567         51  1.0              \n",
      "ravindrasinghrana/carbon-co2-emissions                        Carbon (CO2) Emissions                             42KB  2024-10-28 09:11:56           2144         30  1.0              \n",
      "jakewright/200k-youtube-channel-analytics                     200k YouTube Channel Analytics                      4MB  2024-11-13 16:31:28            867         22  1.0              \n",
      "positivealexey/youtube-channel-performance-analytics          YouTube Channel Performance Analytics              40KB  2024-10-25 10:06:26           2112         34  1.0              \n",
      "valakhorasani/gym-members-exercise-dataset                    Gym Members Exercise Dataset                       22KB  2024-10-06 11:27:38          18189        258  1.0              \n",
      "valakhorasani/mobile-device-usage-and-user-behavior-dataset   Mobile Device Usage and User Behavior Dataset      11KB  2024-09-28 20:21:12          28848        550  1.0              \n",
      "computingvictor/transactions-fraud-datasets                   💳 Financial Transactions Dataset: Analytics       348MB  2024-10-31 21:29:56           4068         58  1.0              \n",
      "satayjit/student-performance-bd                               Student Performance-BD                            263KB  2024-11-14 05:43:38            786         24  0.88235295       \n",
      "franciscogcc/financial-data                                   Gold Price Regression                             510KB  2024-10-23 23:35:36           1623         32  1.0              \n",
      "oscarbatiz/los-angeles-airbnb-listings                        Los Angeles Airbnb Listings                         3MB  2024-10-30 22:18:33           1304         22  1.0              \n",
      "ironwolf437/laptop-price-dataset                              Laptop Price - dataset‏                            25KB  2024-11-12 15:50:44           1992         37  1.0              \n",
      "taweilo/loan-approval-classification-data                     Loan Approval Classification Dataset              751KB  2024-10-29 04:07:34           4831         54  1.0              \n",
      "valakhorasani/bank-transaction-dataset-for-fraud-detection    Bank Transaction Dataset for Fraud Detection      102KB  2024-11-04 09:23:49           2637         52  1.0              \n",
      "uom190346a/mental-health-diagnosis-and-treatment-monitoring   Mental Health Diagnosis and Treatment Monitoring   10KB  2024-11-07 05:49:42           1874         37  1.0              \n",
      "refiaozturk/spotify-songs-dataset                             50K Songs Dataset - Generated by AI                 3MB  2024-11-06 11:50:25           1469         42  1.0              \n",
      "aadyasingh55/impact-of-social-media-on-suicide-rates          Impact of social media on suicide rates            811B  2024-10-21 11:10:02           2338         34  1.0              \n",
      "brsahan/data-science-job                                      Data Science Job                                   80KB  2024-11-03 10:13:11           1866         52  1.0              \n"
     ]
    }
   ],
   "source": [
    "!kaggle datasets list"
   ]
  },
  {
   "cell_type": "markdown",
   "id": "68174bcf",
   "metadata": {},
   "source": [
    "### Install Dependencies\n",
    "I installed the required packages, including:\n",
    "- **Keras**: For model training and customization.\n",
    "- **KerasNLP**: For natural language processing utilities.\n",
    "- **TensorFlow/JAX**: For backend support.\n",
    "- Additional utilities like `pandas` and `numpy`."
   ]
  },
  {
   "cell_type": "code",
   "execution_count": 4,
   "id": "1f64a8aa",
   "metadata": {},
   "outputs": [
    {
     "name": "stdout",
     "output_type": "stream",
     "text": [
      "Python 3.10.15\n"
     ]
    }
   ],
   "source": [
    "!python --version"
   ]
  },
  {
   "cell_type": "code",
   "execution_count": 5,
   "id": "cc120ac8",
   "metadata": {},
   "outputs": [
    {
     "name": "stdout",
     "output_type": "stream",
     "text": [
      "Name: keras\n",
      "Version: 3.6.0\n",
      "Summary: Multi-backend Keras.\n",
      "Home-page: https://github.com/keras-team/keras\n",
      "Author: Keras team\n",
      "Author-email: keras-users@googlegroups.com\n",
      "License: Apache License 2.0\n",
      "Location: /Users/babak/anaconda3/envs/llm/lib/python3.10/site-packages\n",
      "Requires: absl-py, h5py, ml-dtypes, namex, numpy, optree, packaging, rich\n",
      "Required-by: tensorflow\n",
      "Name: tensorflow\n",
      "Version: 2.18.0\n",
      "Summary: TensorFlow is an open source machine learning framework for everyone.\n",
      "Home-page: https://www.tensorflow.org/\n",
      "Author: Google Inc.\n",
      "Author-email: packages@tensorflow.org\n",
      "License: Apache 2.0\n",
      "Location: /Users/babak/anaconda3/envs/llm/lib/python3.10/site-packages\n",
      "Requires: absl-py, astunparse, flatbuffers, gast, google-pasta, grpcio, h5py, keras, libclang, ml-dtypes, numpy, opt-einsum, packaging, protobuf, requests, setuptools, six, tensorboard, tensorflow-io-gcs-filesystem, termcolor, typing-extensions, wrapt\n",
      "Required-by: tensorflow-text\n",
      "Name: keras-nlp\n",
      "Version: 0.17.0\n",
      "Summary: Industry-strength Natural Language Processing extensions for Keras.\n",
      "Home-page: https://github.com/keras-team/keras-nlp\n",
      "Author: Keras team\n",
      "Author-email: keras-nlp@google.com\n",
      "License: Apache License 2.0\n",
      "Location: /Users/babak/anaconda3/envs/llm/lib/python3.10/site-packages\n",
      "Requires: keras-hub\n",
      "Required-by: \n"
     ]
    }
   ],
   "source": [
    "!pip show keras\n",
    "!pip show tensorflow\n",
    "!pip show keras-nlp"
   ]
  },
  {
   "cell_type": "markdown",
   "id": "f52503af",
   "metadata": {},
   "source": [
    "### Select a Backend\n",
    "For this project, I utilized the JAX backend for efficiency:"
   ]
  },
  {
   "cell_type": "code",
   "execution_count": 6,
   "id": "eb0a67b9",
   "metadata": {},
   "outputs": [],
   "source": [
    "os.environ[\"KERAS_BACKEND\"] = \"jax\"  # Or \"torch\" or \"tensorflow\".\n",
    "# Avoid memory fragmentation on JAX backend.\n",
    "os.environ[\"XLA_PYTHON_CLIENT_MEM_FRACTION\"]=\"1.00\""
   ]
  },
  {
   "cell_type": "markdown",
   "id": "a8b3aa2c",
   "metadata": {},
   "source": [
    "### Import packages\n",
    "\n",
    "Import Tensorflow, Keras and KerasNLP.\n",
    "Also pandas and numpy"
   ]
  },
  {
   "cell_type": "code",
   "execution_count": 7,
   "id": "6b9a449c",
   "metadata": {},
   "outputs": [],
   "source": [
    "import tensorflow as tf\n",
    "import keras\n",
    "import keras_nlp\n",
    "import numpy as np\n",
    "import pandas as pd"
   ]
  },
  {
   "cell_type": "markdown",
   "id": "f9fa53a4",
   "metadata": {},
   "source": [
    "## Dataset Preparation\n",
    "I loaded the Medical-Llama3 Fine-tune Dataset and preprocessed it to extract relevant features:"
   ]
  },
  {
   "cell_type": "code",
   "execution_count": 8,
   "id": "b9a70d28",
   "metadata": {},
   "outputs": [
    {
     "data": {
      "text/plain": [
       "<function datasets.arrow_dataset.Dataset.cleanup_cache_files(self) -> int>"
      ]
     },
     "execution_count": 8,
     "metadata": {},
     "output_type": "execute_result"
    }
   ],
   "source": [
    "from datasets import Dataset\n",
    "Dataset.cleanup_cache_files"
   ]
  },
  {
   "cell_type": "code",
   "execution_count": 9,
   "id": "246e96ed",
   "metadata": {},
   "outputs": [],
   "source": [
    "from datasets import load_dataset\n",
    "\n",
    "ds = load_dataset(\"Pistachio-LLM/Medical-llama3-finetune-train\")"
   ]
  },
  {
   "cell_type": "code",
   "execution_count": 10,
   "id": "721d599c",
   "metadata": {},
   "outputs": [
    {
     "data": {
      "text/plain": [
       "DatasetDict({\n",
       "    train: Dataset({\n",
       "        features: ['output', 'input', 'instruction'],\n",
       "        num_rows: 37179\n",
       "    })\n",
       "})"
      ]
     },
     "execution_count": 10,
     "metadata": {},
     "output_type": "execute_result"
    }
   ],
   "source": [
    "ds"
   ]
  },
  {
   "cell_type": "code",
   "execution_count": 11,
   "id": "acf4e1cf",
   "metadata": {},
   "outputs": [],
   "source": [
    "train_ds = ds['train']\n",
    "\n",
    "# Function to extract inputs and outputs from the dataset\n",
    "def extract_features(example):\n",
    "    return {\n",
    "        'input': example['input'],\n",
    "        'instruction': example['instruction'],\n",
    "        'output': example['output']\n",
    "    }\n",
    "\n",
    "# Map the dataset to extract features\n",
    "train_ds = train_ds.map(extract_features)\n",
    "train_ds = pd.DataFrame(train_ds)\n"
   ]
  },
  {
   "cell_type": "code",
   "execution_count": 12,
   "id": "8221c639",
   "metadata": {},
   "outputs": [
    {
     "data": {
      "text/html": [
       "<div>\n",
       "<style scoped>\n",
       "    .dataframe tbody tr th:only-of-type {\n",
       "        vertical-align: middle;\n",
       "    }\n",
       "\n",
       "    .dataframe tbody tr th {\n",
       "        vertical-align: top;\n",
       "    }\n",
       "\n",
       "    .dataframe thead th {\n",
       "        text-align: right;\n",
       "    }\n",
       "</style>\n",
       "<table border=\"1\" class=\"dataframe\">\n",
       "  <thead>\n",
       "    <tr style=\"text-align: right;\">\n",
       "      <th></th>\n",
       "      <th>output</th>\n",
       "      <th>input</th>\n",
       "      <th>instruction</th>\n",
       "    </tr>\n",
       "  </thead>\n",
       "  <tbody>\n",
       "    <tr>\n",
       "      <th>0</th>\n",
       "      <td>The Mesenchyme gives rise to most connective t...</td>\n",
       "      <td></td>\n",
       "      <td>What does the Mesenchyme give rise to?</td>\n",
       "    </tr>\n",
       "  </tbody>\n",
       "</table>\n",
       "</div>"
      ],
      "text/plain": [
       "                                              output input  \\\n",
       "0  The Mesenchyme gives rise to most connective t...         \n",
       "\n",
       "                              instruction  \n",
       "0  What does the Mesenchyme give rise to?  "
      ]
     },
     "execution_count": 12,
     "metadata": {},
     "output_type": "execute_result"
    }
   ],
   "source": [
    "# type(train_ds)\n",
    "train_ds[:1]"
   ]
  },
  {
   "cell_type": "code",
   "execution_count": 13,
   "id": "08d683d5",
   "metadata": {},
   "outputs": [],
   "source": [
    "train_ds_list = [\n",
    "    f\"Instruction:\\n{row['instruction']}\\n\\nResponse:\\n{row['output']}\"\n",
    "    for index, row in train_ds.iterrows()  # Use iterrows to iterate over DataFrame rows\n",
    "]"
   ]
  },
  {
   "cell_type": "code",
   "execution_count": 14,
   "id": "08826afa",
   "metadata": {},
   "outputs": [
    {
     "data": {
      "text/plain": [
       "['Instruction:\\nWhat does the Mesenchyme give rise to?\\n\\nResponse:\\nThe Mesenchyme gives rise to most connective tissue.']"
      ]
     },
     "execution_count": 14,
     "metadata": {},
     "output_type": "execute_result"
    }
   ],
   "source": [
    "train_ds_list[:1]"
   ]
  },
  {
   "cell_type": "markdown",
   "id": "36533644",
   "metadata": {},
   "source": [
    "This subset ensured faster execution during early experimentation."
   ]
  },
  {
   "cell_type": "code",
   "execution_count": 15,
   "id": "7247c889",
   "metadata": {},
   "outputs": [],
   "source": [
    "# Only use 1000 training examples, to keep it fast.\n",
    "data = train_ds_list[:1000]"
   ]
  },
  {
   "cell_type": "code",
   "execution_count": 16,
   "id": "d25d5543",
   "metadata": {},
   "outputs": [
    {
     "data": {
      "text/plain": [
       "['Instruction:\\nWhat does the Mesenchyme give rise to?\\n\\nResponse:\\nThe Mesenchyme gives rise to most connective tissue.',\n",
       " 'Instruction:\\nWhich class of antimicrobials is known to displace unconjugated bilirubin from serum albumin in the blood?\\n\\nResponse:\\nSulfonamides are known to displace unconjugated bilirubin from serum albumin in the blood.',\n",
       " 'Instruction:\\nIn a female athlete who has amenorrhea and laboratory exam shows decreased FSH, LH, and estrogen levels, what is the likely diagnosis?\\n\\nResponse:\\nThe likely diagnosis is hypogonadotropic hypogonadism, also known as hypothalamic amenorrhea. This is a condition where the hypothalamus in the brain does not release enough gonadotropin-releasing hormone (GnRH) to stimulate the pituitary gland to produce follicle-stimulating hormone (FSH) and luteinizing hormone (LH), which are necessary for ovulation and menstruation. As a result, estrogen levels are low, leading to amenorrhea. Female athletes are at increased risk of developing this condition due to the stress of exercise and low body fat. Treatment may involve lifestyle changes, such as reducing exercise and increasing caloric intake, as well as hormone therapy to stimulate ovulation and restore menstrual cycles.',\n",
       " 'Instruction:\\nWhat does a physical examination for aortic dissection entail?\\n\\nResponse:\\nTachycardia may be present due to pain, anxiety, aortic rupture with massive bleeding, pericardial tamponade, aortic insufficiency with acute pulmonary edema and hypoxemia.\\r\\nPulsus paradoxus (a drop of > 10 mmHg in arterial blood pressure on inspiration) may be present of pericardial tamponade develops.\\r\\nPseudohypotension (falsely low blood pressure measurement) may occur due to involvement of the brachiocephalic artery (supplying the right arm) or the left subclavian artery (supplying the left arm).\\r\\nWhile many patients with an aortic dissection have a history of hypertension, the blood pressure is quite variable among patients with acute aortic dissection, and tends to be higher in individuals with a distal dissection. In individuals with a proximal aortic dissection, 36% present with hypertension, while 25% present with hypotension. In those that present with distal aortic dissections, 70% present with hypertension while 4% present with hypotension. A wide pulse pressure may be present if acute aortic insufficiency develops.\\r\\nSevere hypotension at presentation is a grave prognostic indicator. It is usually associated with pericardial tamponade, severe aortic insufficiency, or rupture of the aorta. Accurate measurement of the blood pressure is important.\\r\\nSwelling of the neck and face may be present due to compression of the superior vena cava or Superior vena cava syndrome Horner syndrome may be present due to compression of the superior cervical ganglia The patient may be hoarse due to compression of the left recurrent laryngeal nerve.\\r\\nRales may be present due to cardiogenic pulmonary edema which may result from acute aortic regurgitation. Hemothorax and / or pleural effusion may cause dullness to percussion. Stridor and wheezing may be present due to compression of the airway Hemoptysis may be present due to compression of and erosion into the bronchus\\r\\nAortic insufficiency occurs in 1/2 to 2/3 of ascending aortic dissections, and the murmur of aortic insufficiency is audible in about 32% of proximal dissections. The intensity (loudness) of the murmur is dependent on the blood pressure and may be inaudible in the event of hypotension. Aortic insufficiency is more commonly associated with type I or type II dissection. The murmur of aortic insufficiency (AI) due to aortic dissection is best heard at the right 2nd intercostal space (ICS), as compared with the lower left sternal border for AI due to primary aortic valvular disease.\\r\\nBeck\\'s triad may be present:  Hypotension (due to decreased stroke volume) Jugular venous distension (due to impaired venous return to the heart) Muffled heart sounds (due to fluid inside the pericardium)  Distension of veins in the forehead and scalp Altered sensorium (decreasing Glasgow coma scale) Peripheral edema\\r\\nIn addition to the Beck\\'s triad and pulsus paradoxus the following can be found on cardiovascular examination:\\r\\nPericardial rub Clicks - As ventricular volume shrinks disproportionately, there may be psuedoprolapse/true prolapse of mitral and/or tricuspid valvular structures that result in clicks. Kussmaul\\'s sign - Decrease in jugular venous pressure with inspiration is uncommon.\\r\\nDiminution or absence of pulses is found in up to 40% of patients, and occurs due to occlusion of a major aortic branch. For this reason it is critical to assess the pulse and blood pressure in both arms. The iliac arteries may be affected as well.\\r\\nNeurologic deficits such as coma, altered mental status, Cerebrovascular accident (CVA) and vagal episodes are seen in up to 20%. There can also be focal neurologic signs due to occlusion of a spinal artery. This condition is known as Anterior spinal artery syndrome or \"Beck\\'s syndrome\".\\r\\nPhysical Examination Findings Evidence of insufficient blood supply: Absent pulse Systolic blood pressure difference Focal neurological deficit (along with pain) Aortic diastolic murmur (new and with pain) Hypotension or shock',\n",
       " 'Instruction:\\nIn which part of the cell does Coronavirus replicate?\\n\\nResponse:\\nCoronavirus replicates in the cytoplasm of the host cell.']"
      ]
     },
     "execution_count": 16,
     "metadata": {},
     "output_type": "execute_result"
    }
   ],
   "source": [
    "#checking the datast\n",
    "data[:5]"
   ]
  },
  {
   "cell_type": "markdown",
   "id": "4033c4d9",
   "metadata": {},
   "source": [
    "## Model Loading and Inference\n",
    "\n",
    "### Load the Gemma Model\n",
    "\n",
    "\n",
    "KerasNLP provides implementations of many popular [model architectures](https://keras.io/api/keras_nlp/models/). In this project, I create a model using `GemmaCausalLM`, an end-to-end Gemma model for causal language modeling. A causal language model predicts the next token based on previous tokens.\n",
    "\n",
    "Create the model using the `from_preset` method:"
   ]
  },
  {
   "cell_type": "code",
   "execution_count": 17,
   "id": "fd165283",
   "metadata": {},
   "outputs": [
    {
     "name": "stderr",
     "output_type": "stream",
     "text": [
      "normalizer.cc(51) LOG(INFO) precompiled_charsmap is empty. use identity normalization.\n"
     ]
    },
    {
     "data": {
      "text/html": [
       "<pre style=\"white-space:pre;overflow-x:auto;line-height:normal;font-family:Menlo,'DejaVu Sans Mono',consolas,'Courier New',monospace\"><span style=\"font-weight: bold\">Preprocessor: \"gemma_causal_lm_preprocessor\"</span>\n",
       "</pre>\n"
      ],
      "text/plain": [
       "\u001b[1mPreprocessor: \"gemma_causal_lm_preprocessor\"\u001b[0m\n"
      ]
     },
     "metadata": {},
     "output_type": "display_data"
    },
    {
     "data": {
      "text/html": [
       "<pre style=\"white-space:pre;overflow-x:auto;line-height:normal;font-family:Menlo,'DejaVu Sans Mono',consolas,'Courier New',monospace\">┏━━━━━━━━━━━━━━━━━━━━━━━━━━━━━━━━━━━━━━━━━━━━━━━━━━━━━━━━━━━━━━━┳━━━━━━━━━━━━━━━━━━━━━━━━━━━━━━━━━━━━━━━━━━┓\n",
       "┃<span style=\"font-weight: bold\"> Layer (type)                                                  </span>┃<span style=\"font-weight: bold\">                                   Config </span>┃\n",
       "┡━━━━━━━━━━━━━━━━━━━━━━━━━━━━━━━━━━━━━━━━━━━━━━━━━━━━━━━━━━━━━━━╇━━━━━━━━━━━━━━━━━━━━━━━━━━━━━━━━━━━━━━━━━━┩\n",
       "│ gemma_tokenizer (<span style=\"color: #0087ff; text-decoration-color: #0087ff\">GemmaTokenizer</span>)                              │                      Vocab size: <span style=\"color: #00af00; text-decoration-color: #00af00\">256,000</span> │\n",
       "└───────────────────────────────────────────────────────────────┴──────────────────────────────────────────┘\n",
       "</pre>\n"
      ],
      "text/plain": [
       "┏━━━━━━━━━━━━━━━━━━━━━━━━━━━━━━━━━━━━━━━━━━━━━━━━━━━━━━━━━━━━━━━┳━━━━━━━━━━━━━━━━━━━━━━━━━━━━━━━━━━━━━━━━━━┓\n",
       "┃\u001b[1m \u001b[0m\u001b[1mLayer (type)                                                 \u001b[0m\u001b[1m \u001b[0m┃\u001b[1m \u001b[0m\u001b[1m                                  Config\u001b[0m\u001b[1m \u001b[0m┃\n",
       "┡━━━━━━━━━━━━━━━━━━━━━━━━━━━━━━━━━━━━━━━━━━━━━━━━━━━━━━━━━━━━━━━╇━━━━━━━━━━━━━━━━━━━━━━━━━━━━━━━━━━━━━━━━━━┩\n",
       "│ gemma_tokenizer (\u001b[38;5;33mGemmaTokenizer\u001b[0m)                              │                      Vocab size: \u001b[38;5;34m256,000\u001b[0m │\n",
       "└───────────────────────────────────────────────────────────────┴──────────────────────────────────────────┘\n"
      ]
     },
     "metadata": {},
     "output_type": "display_data"
    },
    {
     "data": {
      "text/html": [
       "<pre style=\"white-space:pre;overflow-x:auto;line-height:normal;font-family:Menlo,'DejaVu Sans Mono',consolas,'Courier New',monospace\"><span style=\"font-weight: bold\">Model: \"gemma_causal_lm\"</span>\n",
       "</pre>\n"
      ],
      "text/plain": [
       "\u001b[1mModel: \"gemma_causal_lm\"\u001b[0m\n"
      ]
     },
     "metadata": {},
     "output_type": "display_data"
    },
    {
     "data": {
      "text/html": [
       "<pre style=\"white-space:pre;overflow-x:auto;line-height:normal;font-family:Menlo,'DejaVu Sans Mono',consolas,'Courier New',monospace\">┏━━━━━━━━━━━━━━━━━━━━━━━━━━━━━━━┳━━━━━━━━━━━━━━━━━━━━━━━━━━━┳━━━━━━━━━━━━━━━━━┳━━━━━━━━━━━━━━━━━━━━━━━━━━━━┓\n",
       "┃<span style=\"font-weight: bold\"> Layer (type)                  </span>┃<span style=\"font-weight: bold\"> Output Shape              </span>┃<span style=\"font-weight: bold\">         Param # </span>┃<span style=\"font-weight: bold\"> Connected to               </span>┃\n",
       "┡━━━━━━━━━━━━━━━━━━━━━━━━━━━━━━━╇━━━━━━━━━━━━━━━━━━━━━━━━━━━╇━━━━━━━━━━━━━━━━━╇━━━━━━━━━━━━━━━━━━━━━━━━━━━━┩\n",
       "│ padding_mask (<span style=\"color: #0087ff; text-decoration-color: #0087ff\">InputLayer</span>)     │ (<span style=\"color: #00d7ff; text-decoration-color: #00d7ff\">None</span>, <span style=\"color: #00d7ff; text-decoration-color: #00d7ff\">None</span>)              │               <span style=\"color: #00af00; text-decoration-color: #00af00\">0</span> │ -                          │\n",
       "├───────────────────────────────┼───────────────────────────┼─────────────────┼────────────────────────────┤\n",
       "│ token_ids (<span style=\"color: #0087ff; text-decoration-color: #0087ff\">InputLayer</span>)        │ (<span style=\"color: #00d7ff; text-decoration-color: #00d7ff\">None</span>, <span style=\"color: #00d7ff; text-decoration-color: #00d7ff\">None</span>)              │               <span style=\"color: #00af00; text-decoration-color: #00af00\">0</span> │ -                          │\n",
       "├───────────────────────────────┼───────────────────────────┼─────────────────┼────────────────────────────┤\n",
       "│ gemma_backbone                │ (<span style=\"color: #00d7ff; text-decoration-color: #00d7ff\">None</span>, <span style=\"color: #00d7ff; text-decoration-color: #00d7ff\">None</span>, <span style=\"color: #00af00; text-decoration-color: #00af00\">2048</span>)        │   <span style=\"color: #00af00; text-decoration-color: #00af00\">2,506,172,416</span> │ padding_mask[<span style=\"color: #00af00; text-decoration-color: #00af00\">0</span>][<span style=\"color: #00af00; text-decoration-color: #00af00\">0</span>],        │\n",
       "│ (<span style=\"color: #0087ff; text-decoration-color: #0087ff\">GemmaBackbone</span>)               │                           │                 │ token_ids[<span style=\"color: #00af00; text-decoration-color: #00af00\">0</span>][<span style=\"color: #00af00; text-decoration-color: #00af00\">0</span>]            │\n",
       "├───────────────────────────────┼───────────────────────────┼─────────────────┼────────────────────────────┤\n",
       "│ token_embedding               │ (<span style=\"color: #00d7ff; text-decoration-color: #00d7ff\">None</span>, <span style=\"color: #00d7ff; text-decoration-color: #00d7ff\">None</span>, <span style=\"color: #00af00; text-decoration-color: #00af00\">256000</span>)      │     <span style=\"color: #00af00; text-decoration-color: #00af00\">524,288,000</span> │ gemma_backbone[<span style=\"color: #00af00; text-decoration-color: #00af00\">0</span>][<span style=\"color: #00af00; text-decoration-color: #00af00\">0</span>]       │\n",
       "│ (<span style=\"color: #0087ff; text-decoration-color: #0087ff\">ReversibleEmbedding</span>)         │                           │                 │                            │\n",
       "└───────────────────────────────┴───────────────────────────┴─────────────────┴────────────────────────────┘\n",
       "</pre>\n"
      ],
      "text/plain": [
       "┏━━━━━━━━━━━━━━━━━━━━━━━━━━━━━━━┳━━━━━━━━━━━━━━━━━━━━━━━━━━━┳━━━━━━━━━━━━━━━━━┳━━━━━━━━━━━━━━━━━━━━━━━━━━━━┓\n",
       "┃\u001b[1m \u001b[0m\u001b[1mLayer (type)                 \u001b[0m\u001b[1m \u001b[0m┃\u001b[1m \u001b[0m\u001b[1mOutput Shape             \u001b[0m\u001b[1m \u001b[0m┃\u001b[1m \u001b[0m\u001b[1m        Param #\u001b[0m\u001b[1m \u001b[0m┃\u001b[1m \u001b[0m\u001b[1mConnected to              \u001b[0m\u001b[1m \u001b[0m┃\n",
       "┡━━━━━━━━━━━━━━━━━━━━━━━━━━━━━━━╇━━━━━━━━━━━━━━━━━━━━━━━━━━━╇━━━━━━━━━━━━━━━━━╇━━━━━━━━━━━━━━━━━━━━━━━━━━━━┩\n",
       "│ padding_mask (\u001b[38;5;33mInputLayer\u001b[0m)     │ (\u001b[38;5;45mNone\u001b[0m, \u001b[38;5;45mNone\u001b[0m)              │               \u001b[38;5;34m0\u001b[0m │ -                          │\n",
       "├───────────────────────────────┼───────────────────────────┼─────────────────┼────────────────────────────┤\n",
       "│ token_ids (\u001b[38;5;33mInputLayer\u001b[0m)        │ (\u001b[38;5;45mNone\u001b[0m, \u001b[38;5;45mNone\u001b[0m)              │               \u001b[38;5;34m0\u001b[0m │ -                          │\n",
       "├───────────────────────────────┼───────────────────────────┼─────────────────┼────────────────────────────┤\n",
       "│ gemma_backbone                │ (\u001b[38;5;45mNone\u001b[0m, \u001b[38;5;45mNone\u001b[0m, \u001b[38;5;34m2048\u001b[0m)        │   \u001b[38;5;34m2,506,172,416\u001b[0m │ padding_mask[\u001b[38;5;34m0\u001b[0m][\u001b[38;5;34m0\u001b[0m],        │\n",
       "│ (\u001b[38;5;33mGemmaBackbone\u001b[0m)               │                           │                 │ token_ids[\u001b[38;5;34m0\u001b[0m][\u001b[38;5;34m0\u001b[0m]            │\n",
       "├───────────────────────────────┼───────────────────────────┼─────────────────┼────────────────────────────┤\n",
       "│ token_embedding               │ (\u001b[38;5;45mNone\u001b[0m, \u001b[38;5;45mNone\u001b[0m, \u001b[38;5;34m256000\u001b[0m)      │     \u001b[38;5;34m524,288,000\u001b[0m │ gemma_backbone[\u001b[38;5;34m0\u001b[0m][\u001b[38;5;34m0\u001b[0m]       │\n",
       "│ (\u001b[38;5;33mReversibleEmbedding\u001b[0m)         │                           │                 │                            │\n",
       "└───────────────────────────────┴───────────────────────────┴─────────────────┴────────────────────────────┘\n"
      ]
     },
     "metadata": {},
     "output_type": "display_data"
    },
    {
     "data": {
      "text/html": [
       "<pre style=\"white-space:pre;overflow-x:auto;line-height:normal;font-family:Menlo,'DejaVu Sans Mono',consolas,'Courier New',monospace\"><span style=\"font-weight: bold\"> Total params: </span><span style=\"color: #00af00; text-decoration-color: #00af00\">2,506,172,416</span> (9.34 GB)\n",
       "</pre>\n"
      ],
      "text/plain": [
       "\u001b[1m Total params: \u001b[0m\u001b[38;5;34m2,506,172,416\u001b[0m (9.34 GB)\n"
      ]
     },
     "metadata": {},
     "output_type": "display_data"
    },
    {
     "data": {
      "text/html": [
       "<pre style=\"white-space:pre;overflow-x:auto;line-height:normal;font-family:Menlo,'DejaVu Sans Mono',consolas,'Courier New',monospace\"><span style=\"font-weight: bold\"> Trainable params: </span><span style=\"color: #00af00; text-decoration-color: #00af00\">2,506,172,416</span> (9.34 GB)\n",
       "</pre>\n"
      ],
      "text/plain": [
       "\u001b[1m Trainable params: \u001b[0m\u001b[38;5;34m2,506,172,416\u001b[0m (9.34 GB)\n"
      ]
     },
     "metadata": {},
     "output_type": "display_data"
    },
    {
     "data": {
      "text/html": [
       "<pre style=\"white-space:pre;overflow-x:auto;line-height:normal;font-family:Menlo,'DejaVu Sans Mono',consolas,'Courier New',monospace\"><span style=\"font-weight: bold\"> Non-trainable params: </span><span style=\"color: #00af00; text-decoration-color: #00af00\">0</span> (0.00 B)\n",
       "</pre>\n"
      ],
      "text/plain": [
       "\u001b[1m Non-trainable params: \u001b[0m\u001b[38;5;34m0\u001b[0m (0.00 B)\n"
      ]
     },
     "metadata": {},
     "output_type": "display_data"
    }
   ],
   "source": [
    "from keras_nlp.models import GemmaCausalLM\n",
    "gemma_lm = GemmaCausalLM.from_preset(\"gemma_2b_en\")\n",
    "gemma_lm.summary()"
   ]
  },
  {
   "cell_type": "markdown",
   "id": "02aefa2a",
   "metadata": {},
   "source": [
    "The model architecture includes 2 billion parameters, optimized for causal language modeling."
   ]
  },
  {
   "cell_type": "markdown",
   "id": "2f32b45a",
   "metadata": {},
   "source": [
    "## Inference before fine tuning\n",
    "\n",
    "I tested the model's responses to initial prompts, such as diagnosing medical conditions or explaining complex terms in simple language:"
   ]
  },
  {
   "cell_type": "markdown",
   "id": "f8daa5a9",
   "metadata": {},
   "source": [
    "### Coughing and Wheezing Prompt\n",
    "\n",
    "Query the model for suggestions on the most probable diagnosis."
   ]
  },
  {
   "cell_type": "code",
   "execution_count": 18,
   "id": "73994006",
   "metadata": {},
   "outputs": [],
   "source": [
    "template = \"Instruction:\\n{instruction}\\n\\nResponse:\\n{response}\""
   ]
  },
  {
   "cell_type": "code",
   "execution_count": 19,
   "id": "0c871614",
   "metadata": {},
   "outputs": [
    {
     "name": "stdout",
     "output_type": "stream",
     "text": [
      "Instruction:\n",
      "A young teenage boy experiences wheezing, coughing, and shortness of breath triggered by exposure to cold air, often worsening during or after physical activity outdoors in chilly weather.What is the likely diagnosis?\n",
      "\n",
      "Response:\n",
      "Exercise-induced asthma, also known as exercise-induced bronchoconstriction (EIB), is a type of asthma that occurs in individuals who are sensitive to the cold, and is caused by exercise-induced bronchoconstriction. It is characterized by the narrowing of the airways, making it difficult to breathe.\n",
      "\n",
      "Symptoms may include wheezing, coughing, shortness of breath, and chest pain. It may be aggravated by physical activity, cold temperatures, or exertion and may improve with rest. The condition is often exacerbated by exposure to cold air or cold weather.\n",
      "\n",
      "Treatment typically involves avoiding exposure to cold air or cold weather and taking medication such as inhaled steroids or bronchodilators. It can be managed through regular exercise and physical conditioning.\n"
     ]
    }
   ],
   "source": [
    "prompt = template.format(\n",
    "    instruction=\"A young teenage boy experiences wheezing, coughing, and shortness of breath triggered by exposure to cold air, often worsening during or after physical activity outdoors in chilly weather.What is the likely diagnosis?\",\n",
    "    response=\"\",\n",
    ")\n",
    "sampler = keras_nlp.samplers.TopKSampler(k=5, seed=2)\n",
    "gemma_lm.compile(sampler=sampler)\n",
    "print(gemma_lm.generate(prompt, max_length=512))"
   ]
  },
  {
   "cell_type": "markdown",
   "id": "7ef9561b",
   "metadata": {},
   "source": [
    "### ELI5 chemotherapy Prompt\n",
    "\n",
    "Prompt the model to explain chemotherapy in terms simple enough for a 5 year old child to understand."
   ]
  },
  {
   "cell_type": "code",
   "execution_count": 20,
   "id": "9961d2a7",
   "metadata": {},
   "outputs": [
    {
     "name": "stdout",
     "output_type": "stream",
     "text": [
      "Instruction:\n",
      "Explain the process of chemotherapy in a way that a child could understand.\n",
      "\n",
      "Response:\n",
      "Chemotherapy is a treatment that uses drugs to kill or slow the growth of cancer cells. Chemotherapy works best when it is used early in cancer treatment. It helps kill cancer cells that are already in your body and prevent new cancer from growing. Chemotherapy can also shrink tumors or make them easier to remove.\n"
     ]
    }
   ],
   "source": [
    "prompt = template.format(\n",
    "    instruction=\"Explain the process of chemotherapy in a way that a child could understand.\",\n",
    "    response=\"\",\n",
    ")\n",
    "print(gemma_lm.generate(prompt, max_length=256))"
   ]
  },
  {
   "cell_type": "markdown",
   "id": "991bd5da-5a4c-4c49-96c8-9cf32fee82ed",
   "metadata": {},
   "source": [
    "These initial results provided a baseline for comparison after fine-tuning."
   ]
  },
  {
   "cell_type": "markdown",
   "id": "f3f82e54",
   "metadata": {},
   "source": [
    "## LoRA Fine-tuning\n",
    "\n",
    "- LoRA Rank: Set to 8, balancing computational efficiency and expressive power.\n",
    "- Optimizer: AdamW, configured for transformer models."
   ]
  },
  {
   "cell_type": "code",
   "execution_count": 21,
   "id": "3d6b5950",
   "metadata": {},
   "outputs": [
    {
     "data": {
      "text/html": [
       "<pre style=\"white-space:pre;overflow-x:auto;line-height:normal;font-family:Menlo,'DejaVu Sans Mono',consolas,'Courier New',monospace\"><span style=\"font-weight: bold\">Preprocessor: \"gemma_causal_lm_preprocessor\"</span>\n",
       "</pre>\n"
      ],
      "text/plain": [
       "\u001b[1mPreprocessor: \"gemma_causal_lm_preprocessor\"\u001b[0m\n"
      ]
     },
     "metadata": {},
     "output_type": "display_data"
    },
    {
     "data": {
      "text/html": [
       "<pre style=\"white-space:pre;overflow-x:auto;line-height:normal;font-family:Menlo,'DejaVu Sans Mono',consolas,'Courier New',monospace\">┏━━━━━━━━━━━━━━━━━━━━━━━━━━━━━━━━━━━━━━━━━━━━━━━━━━━━━━━━━━━━━━━┳━━━━━━━━━━━━━━━━━━━━━━━━━━━━━━━━━━━━━━━━━━┓\n",
       "┃<span style=\"font-weight: bold\"> Layer (type)                                                  </span>┃<span style=\"font-weight: bold\">                                   Config </span>┃\n",
       "┡━━━━━━━━━━━━━━━━━━━━━━━━━━━━━━━━━━━━━━━━━━━━━━━━━━━━━━━━━━━━━━━╇━━━━━━━━━━━━━━━━━━━━━━━━━━━━━━━━━━━━━━━━━━┩\n",
       "│ gemma_tokenizer (<span style=\"color: #0087ff; text-decoration-color: #0087ff\">GemmaTokenizer</span>)                              │                      Vocab size: <span style=\"color: #00af00; text-decoration-color: #00af00\">256,000</span> │\n",
       "└───────────────────────────────────────────────────────────────┴──────────────────────────────────────────┘\n",
       "</pre>\n"
      ],
      "text/plain": [
       "┏━━━━━━━━━━━━━━━━━━━━━━━━━━━━━━━━━━━━━━━━━━━━━━━━━━━━━━━━━━━━━━━┳━━━━━━━━━━━━━━━━━━━━━━━━━━━━━━━━━━━━━━━━━━┓\n",
       "┃\u001b[1m \u001b[0m\u001b[1mLayer (type)                                                 \u001b[0m\u001b[1m \u001b[0m┃\u001b[1m \u001b[0m\u001b[1m                                  Config\u001b[0m\u001b[1m \u001b[0m┃\n",
       "┡━━━━━━━━━━━━━━━━━━━━━━━━━━━━━━━━━━━━━━━━━━━━━━━━━━━━━━━━━━━━━━━╇━━━━━━━━━━━━━━━━━━━━━━━━━━━━━━━━━━━━━━━━━━┩\n",
       "│ gemma_tokenizer (\u001b[38;5;33mGemmaTokenizer\u001b[0m)                              │                      Vocab size: \u001b[38;5;34m256,000\u001b[0m │\n",
       "└───────────────────────────────────────────────────────────────┴──────────────────────────────────────────┘\n"
      ]
     },
     "metadata": {},
     "output_type": "display_data"
    },
    {
     "data": {
      "text/html": [
       "<pre style=\"white-space:pre;overflow-x:auto;line-height:normal;font-family:Menlo,'DejaVu Sans Mono',consolas,'Courier New',monospace\"><span style=\"font-weight: bold\">Model: \"gemma_causal_lm\"</span>\n",
       "</pre>\n"
      ],
      "text/plain": [
       "\u001b[1mModel: \"gemma_causal_lm\"\u001b[0m\n"
      ]
     },
     "metadata": {},
     "output_type": "display_data"
    },
    {
     "data": {
      "text/html": [
       "<pre style=\"white-space:pre;overflow-x:auto;line-height:normal;font-family:Menlo,'DejaVu Sans Mono',consolas,'Courier New',monospace\">┏━━━━━━━━━━━━━━━━━━━━━━━━━━━━━━━┳━━━━━━━━━━━━━━━━━━━━━━━━━━━┳━━━━━━━━━━━━━━━━━┳━━━━━━━━━━━━━━━━━━━━━━━━━━━━┓\n",
       "┃<span style=\"font-weight: bold\"> Layer (type)                  </span>┃<span style=\"font-weight: bold\"> Output Shape              </span>┃<span style=\"font-weight: bold\">         Param # </span>┃<span style=\"font-weight: bold\"> Connected to               </span>┃\n",
       "┡━━━━━━━━━━━━━━━━━━━━━━━━━━━━━━━╇━━━━━━━━━━━━━━━━━━━━━━━━━━━╇━━━━━━━━━━━━━━━━━╇━━━━━━━━━━━━━━━━━━━━━━━━━━━━┩\n",
       "│ padding_mask (<span style=\"color: #0087ff; text-decoration-color: #0087ff\">InputLayer</span>)     │ (<span style=\"color: #00d7ff; text-decoration-color: #00d7ff\">None</span>, <span style=\"color: #00d7ff; text-decoration-color: #00d7ff\">None</span>)              │               <span style=\"color: #00af00; text-decoration-color: #00af00\">0</span> │ -                          │\n",
       "├───────────────────────────────┼───────────────────────────┼─────────────────┼────────────────────────────┤\n",
       "│ token_ids (<span style=\"color: #0087ff; text-decoration-color: #0087ff\">InputLayer</span>)        │ (<span style=\"color: #00d7ff; text-decoration-color: #00d7ff\">None</span>, <span style=\"color: #00d7ff; text-decoration-color: #00d7ff\">None</span>)              │               <span style=\"color: #00af00; text-decoration-color: #00af00\">0</span> │ -                          │\n",
       "├───────────────────────────────┼───────────────────────────┼─────────────────┼────────────────────────────┤\n",
       "│ gemma_backbone                │ (<span style=\"color: #00d7ff; text-decoration-color: #00d7ff\">None</span>, <span style=\"color: #00d7ff; text-decoration-color: #00d7ff\">None</span>, <span style=\"color: #00af00; text-decoration-color: #00af00\">2048</span>)        │   <span style=\"color: #00af00; text-decoration-color: #00af00\">2,508,900,352</span> │ padding_mask[<span style=\"color: #00af00; text-decoration-color: #00af00\">0</span>][<span style=\"color: #00af00; text-decoration-color: #00af00\">0</span>],        │\n",
       "│ (<span style=\"color: #0087ff; text-decoration-color: #0087ff\">GemmaBackbone</span>)               │                           │                 │ token_ids[<span style=\"color: #00af00; text-decoration-color: #00af00\">0</span>][<span style=\"color: #00af00; text-decoration-color: #00af00\">0</span>]            │\n",
       "├───────────────────────────────┼───────────────────────────┼─────────────────┼────────────────────────────┤\n",
       "│ token_embedding               │ (<span style=\"color: #00d7ff; text-decoration-color: #00d7ff\">None</span>, <span style=\"color: #00d7ff; text-decoration-color: #00d7ff\">None</span>, <span style=\"color: #00af00; text-decoration-color: #00af00\">256000</span>)      │     <span style=\"color: #00af00; text-decoration-color: #00af00\">524,288,000</span> │ gemma_backbone[<span style=\"color: #00af00; text-decoration-color: #00af00\">0</span>][<span style=\"color: #00af00; text-decoration-color: #00af00\">0</span>]       │\n",
       "│ (<span style=\"color: #0087ff; text-decoration-color: #0087ff\">ReversibleEmbedding</span>)         │                           │                 │                            │\n",
       "└───────────────────────────────┴───────────────────────────┴─────────────────┴────────────────────────────┘\n",
       "</pre>\n"
      ],
      "text/plain": [
       "┏━━━━━━━━━━━━━━━━━━━━━━━━━━━━━━━┳━━━━━━━━━━━━━━━━━━━━━━━━━━━┳━━━━━━━━━━━━━━━━━┳━━━━━━━━━━━━━━━━━━━━━━━━━━━━┓\n",
       "┃\u001b[1m \u001b[0m\u001b[1mLayer (type)                 \u001b[0m\u001b[1m \u001b[0m┃\u001b[1m \u001b[0m\u001b[1mOutput Shape             \u001b[0m\u001b[1m \u001b[0m┃\u001b[1m \u001b[0m\u001b[1m        Param #\u001b[0m\u001b[1m \u001b[0m┃\u001b[1m \u001b[0m\u001b[1mConnected to              \u001b[0m\u001b[1m \u001b[0m┃\n",
       "┡━━━━━━━━━━━━━━━━━━━━━━━━━━━━━━━╇━━━━━━━━━━━━━━━━━━━━━━━━━━━╇━━━━━━━━━━━━━━━━━╇━━━━━━━━━━━━━━━━━━━━━━━━━━━━┩\n",
       "│ padding_mask (\u001b[38;5;33mInputLayer\u001b[0m)     │ (\u001b[38;5;45mNone\u001b[0m, \u001b[38;5;45mNone\u001b[0m)              │               \u001b[38;5;34m0\u001b[0m │ -                          │\n",
       "├───────────────────────────────┼───────────────────────────┼─────────────────┼────────────────────────────┤\n",
       "│ token_ids (\u001b[38;5;33mInputLayer\u001b[0m)        │ (\u001b[38;5;45mNone\u001b[0m, \u001b[38;5;45mNone\u001b[0m)              │               \u001b[38;5;34m0\u001b[0m │ -                          │\n",
       "├───────────────────────────────┼───────────────────────────┼─────────────────┼────────────────────────────┤\n",
       "│ gemma_backbone                │ (\u001b[38;5;45mNone\u001b[0m, \u001b[38;5;45mNone\u001b[0m, \u001b[38;5;34m2048\u001b[0m)        │   \u001b[38;5;34m2,508,900,352\u001b[0m │ padding_mask[\u001b[38;5;34m0\u001b[0m][\u001b[38;5;34m0\u001b[0m],        │\n",
       "│ (\u001b[38;5;33mGemmaBackbone\u001b[0m)               │                           │                 │ token_ids[\u001b[38;5;34m0\u001b[0m][\u001b[38;5;34m0\u001b[0m]            │\n",
       "├───────────────────────────────┼───────────────────────────┼─────────────────┼────────────────────────────┤\n",
       "│ token_embedding               │ (\u001b[38;5;45mNone\u001b[0m, \u001b[38;5;45mNone\u001b[0m, \u001b[38;5;34m256000\u001b[0m)      │     \u001b[38;5;34m524,288,000\u001b[0m │ gemma_backbone[\u001b[38;5;34m0\u001b[0m][\u001b[38;5;34m0\u001b[0m]       │\n",
       "│ (\u001b[38;5;33mReversibleEmbedding\u001b[0m)         │                           │                 │                            │\n",
       "└───────────────────────────────┴───────────────────────────┴─────────────────┴────────────────────────────┘\n"
      ]
     },
     "metadata": {},
     "output_type": "display_data"
    },
    {
     "data": {
      "text/html": [
       "<pre style=\"white-space:pre;overflow-x:auto;line-height:normal;font-family:Menlo,'DejaVu Sans Mono',consolas,'Courier New',monospace\"><span style=\"font-weight: bold\"> Total params: </span><span style=\"color: #00af00; text-decoration-color: #00af00\">2,508,900,352</span> (9.35 GB)\n",
       "</pre>\n"
      ],
      "text/plain": [
       "\u001b[1m Total params: \u001b[0m\u001b[38;5;34m2,508,900,352\u001b[0m (9.35 GB)\n"
      ]
     },
     "metadata": {},
     "output_type": "display_data"
    },
    {
     "data": {
      "text/html": [
       "<pre style=\"white-space:pre;overflow-x:auto;line-height:normal;font-family:Menlo,'DejaVu Sans Mono',consolas,'Courier New',monospace\"><span style=\"font-weight: bold\"> Trainable params: </span><span style=\"color: #00af00; text-decoration-color: #00af00\">2,727,936</span> (10.41 MB)\n",
       "</pre>\n"
      ],
      "text/plain": [
       "\u001b[1m Trainable params: \u001b[0m\u001b[38;5;34m2,727,936\u001b[0m (10.41 MB)\n"
      ]
     },
     "metadata": {},
     "output_type": "display_data"
    },
    {
     "data": {
      "text/html": [
       "<pre style=\"white-space:pre;overflow-x:auto;line-height:normal;font-family:Menlo,'DejaVu Sans Mono',consolas,'Courier New',monospace\"><span style=\"font-weight: bold\"> Non-trainable params: </span><span style=\"color: #00af00; text-decoration-color: #00af00\">2,506,172,416</span> (9.34 GB)\n",
       "</pre>\n"
      ],
      "text/plain": [
       "\u001b[1m Non-trainable params: \u001b[0m\u001b[38;5;34m2,506,172,416\u001b[0m (9.34 GB)\n"
      ]
     },
     "metadata": {},
     "output_type": "display_data"
    }
   ],
   "source": [
    "# Enable LoRA for the model and set the LoRA rank to 8.\n",
    "gemma_lm.backbone.enable_lora(rank=8)\n",
    "gemma_lm.summary()"
   ]
  },
  {
   "cell_type": "code",
   "execution_count": 22,
   "id": "be29f056",
   "metadata": {},
   "outputs": [],
   "source": [
    "# Limit the input sequence length to 256 (to control memory usage).\n",
    "gemma_lm.preprocessor.sequence_length = 256\n",
    "# Use AdamW (a common optimizer for transformer models).\n",
    "optimizer = keras.optimizers.AdamW(\n",
    "    learning_rate=5e-5,\n",
    "    weight_decay=0.01,\n",
    ")\n",
    "# Exclude layernorm and bias terms from decay.\n",
    "optimizer.exclude_from_weight_decay(var_names=[\"bias\", \"scale\"])\n",
    "\n",
    "gemma_lm.compile(\n",
    "    loss=keras.losses.SparseCategoricalCrossentropy(from_logits=True),\n",
    "    optimizer=optimizer,\n",
    "    weighted_metrics=[keras.metrics.SparseCategoricalAccuracy()],\n",
    ")"
   ]
  },
  {
   "cell_type": "markdown",
   "id": "87a0df70-21c6-4e1e-9b0d-8d8a06ba0f61",
   "metadata": {},
   "source": [
    "The fine-tuning process trained the model on a subset of data for one epoch:"
   ]
  },
  {
   "cell_type": "code",
   "execution_count": null,
   "id": "b20f3fc7-89e3-4d4b-a98c-19534525b413",
   "metadata": {},
   "outputs": [
    {
     "name": "stdout",
     "output_type": "stream",
     "text": [
      "\u001b[1m   1/1000\u001b[0m \u001b[37m━━━━━━━━━━━━━━━━━━━━\u001b[0m \u001b[1m10:01:51\u001b[0m 36s/step - loss: 0.3563 - sparse_categorical_accuracy: 0.4516"
     ]
    }
   ],
   "source": [
    "gemma_lm.fit(data, epochs=1, batch_size=1)"
   ]
  },
  {
   "cell_type": "markdown",
   "id": "bba3d78a",
   "metadata": {},
   "source": [
    "## Post-Tuning Evaluation\n",
    "\n",
    "### Improved Inference\n",
    "After fine-tuning, I observed improved contextual accuracy in responses:"
   ]
  },
  {
   "cell_type": "markdown",
   "id": "de136f26",
   "metadata": {},
   "source": [
    "### Coughing and Wheezing Prompt"
   ]
  },
  {
   "cell_type": "code",
   "execution_count": null,
   "id": "02e88dd3",
   "metadata": {},
   "outputs": [],
   "source": [
    "prompt = template.format(\n",
    "    instruction=\"A young teenage boy experiences wheezing, coughing, and shortness of breath triggered by exposure to cold air, often worsening during or after physical activity outdoors in chilly weather.What is the likely diagnosis?\",\n",
    "    response=\"\",\n",
    ")\n",
    "sampler = keras_nlp.samplers.TopKSampler(k=5, seed=2)\n",
    "gemma_lm.compile(sampler=sampler)\n",
    "print(gemma_lm.generate(prompt, max_length=512))"
   ]
  },
  {
   "cell_type": "markdown",
   "id": "c4c93d25-16e4-48de-840d-7ae6c365c557",
   "metadata": {},
   "source": [
    "The model responds with most probable diagnosis."
   ]
  },
  {
   "cell_type": "markdown",
   "id": "ea3671f1",
   "metadata": {},
   "source": [
    "### ELI5 Photosynthesis Prompt"
   ]
  },
  {
   "cell_type": "code",
   "execution_count": null,
   "id": "2a2dd11b",
   "metadata": {},
   "outputs": [],
   "source": [
    "prompt = template.format(\n",
    "    instruction=\"Explain the process of photosynthesis in a way that a child could understand.\",\n",
    "    response=\"\",\n",
    ")\n",
    "print(gemma_lm.generate(prompt, max_length=256))"
   ]
  },
  {
   "cell_type": "markdown",
   "id": "a2fb50d8",
   "metadata": {},
   "source": [
    "The model now explains photosynthesis in simpler terms."
   ]
  },
  {
   "cell_type": "markdown",
   "id": "da27c9d9-c542-430f-bdec-78b9c7abf9da",
   "metadata": {},
   "source": [
    "## Summary\n",
    "This project demonstrates how LoRA fine-tuning can enhance a Gemma 2B model's performance for medical conversational tasks. With focused datasets and efficient techniques, the chatbot is now better equipped to handle diverse prompts, providing accurate and user-friendly responses."
   ]
  }
 ],
 "metadata": {
  "kernelspec": {
   "display_name": "LLM",
   "language": "python",
   "name": "llm"
  },
  "language_info": {
   "codemirror_mode": {
    "name": "ipython",
    "version": 3
   },
   "file_extension": ".py",
   "mimetype": "text/x-python",
   "name": "python",
   "nbconvert_exporter": "python",
   "pygments_lexer": "ipython3",
   "version": "3.10.15"
  }
 },
 "nbformat": 4,
 "nbformat_minor": 5
}
